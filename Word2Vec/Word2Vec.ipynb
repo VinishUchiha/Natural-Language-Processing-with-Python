{
 "cells": [
  {
   "cell_type": "code",
   "execution_count": 2,
   "metadata": {},
   "outputs": [],
   "source": [
    "import nltk\n",
    "import urllib\n",
    "import bs4 as bs\n",
    "import re\n",
    "from gensim.models import Word2Vec\n",
    "from nltk.corpus import stopwords"
   ]
  },
  {
   "cell_type": "code",
   "execution_count": 3,
   "metadata": {},
   "outputs": [],
   "source": [
    "# Gettings the data source\n",
    "source = urllib.request.urlopen('https://en.wikipedia.org/wiki/Nanotechnology').read()"
   ]
  },
  {
   "cell_type": "code",
   "execution_count": 4,
   "metadata": {},
   "outputs": [],
   "source": [
    "# Parsing the data/ creating BeautifulSoup object\n",
    "soup = bs.BeautifulSoup(source,'lxml')\n"
   ]
  },
  {
   "cell_type": "code",
   "execution_count": 5,
   "metadata": {},
   "outputs": [],
   "source": [
    "# Fetching the data\n",
    "text = \"\"\n",
    "for paragraph in soup.find_all('p'):\n",
    "    text += paragraph.text"
   ]
  },
  {
   "cell_type": "code",
   "execution_count": 6,
   "metadata": {},
   "outputs": [],
   "source": [
    "# Preprocessing the data\n",
    "text = re.sub(r'\\[[0-9]*\\]',' ',text)\n",
    "text = re.sub(r'\\s+',' ',text)\n",
    "text = text.lower()\n",
    "text = re.sub(r'\\d',' ',text)\n",
    "text = re.sub(r'\\s+',' ',text)"
   ]
  },
  {
   "cell_type": "code",
   "execution_count": 20,
   "metadata": {},
   "outputs": [],
   "source": [
    "sentences = nltk.sent_tokenize(text)\n",
    "\n",
    "sentences = [nltk.word_tokenize(sentence) for sentence in sentences]\n",
    "for i in range(len(sentences)):\n",
    "    sentences[i] = [word for word in sentences[i] if word not in stopwords.words('english')]"
   ]
  },
  {
   "cell_type": "code",
   "execution_count": 21,
   "metadata": {},
   "outputs": [],
   "source": [
    "# Training the Word2Vec model\n",
    "model = Word2Vec(sentences, min_count=1)\n",
    "\n",
    "words = model.wv.vocab"
   ]
  },
  {
   "cell_type": "code",
   "execution_count": 24,
   "metadata": {},
   "outputs": [],
   "source": [
    "# Finding Word Vectors\n",
    "vector = model.wv['technology']\n"
   ]
  },
  {
   "cell_type": "code",
   "execution_count": 25,
   "metadata": {},
   "outputs": [
    {
     "data": {
      "text/plain": [
       "array([-4.0207757e-03, -4.9566813e-03,  2.6701761e-03, -1.5929472e-03,\n",
       "        1.6645427e-04, -4.2757201e-03, -3.5019370e-03, -4.5630070e-03,\n",
       "       -2.9762578e-03, -3.7228749e-03,  2.3224715e-03, -3.6747800e-03,\n",
       "       -1.7510496e-04,  5.9144554e-04, -2.2605613e-04,  7.8060693e-04,\n",
       "        1.8229196e-03,  1.8298118e-03, -4.6216636e-03, -3.5975084e-03,\n",
       "       -2.5633929e-04, -3.0516642e-03, -1.5623843e-03,  6.4074382e-04,\n",
       "        4.2140582e-03, -2.9883620e-03, -4.5468849e-03, -4.5556384e-03,\n",
       "        3.1397250e-03, -3.9656763e-03, -2.1438387e-03, -4.2149811e-03,\n",
       "       -8.6790900e-04,  1.7414849e-03, -2.4990279e-03,  3.2231747e-03,\n",
       "        4.7634947e-03, -3.2363038e-03, -1.8229976e-03, -1.1978465e-03,\n",
       "       -1.1982913e-03,  4.1884487e-03,  1.5611904e-03, -2.9953276e-03,\n",
       "       -9.0045983e-04, -1.4040031e-03, -3.0240675e-03,  3.6576062e-03,\n",
       "        2.4191819e-03, -6.4777530e-04, -2.1380826e-03,  3.4134011e-03,\n",
       "       -1.8194279e-03, -3.7094548e-03,  7.4551068e-04, -1.7944289e-03,\n",
       "       -1.4936407e-03,  2.2824160e-04,  2.2872670e-03,  5.2775303e-04,\n",
       "        3.2431288e-03, -3.6617066e-03,  4.0391753e-03,  1.0453587e-03,\n",
       "       -2.1158821e-04, -4.3321773e-03, -1.2024819e-03,  5.7900572e-05,\n",
       "       -1.3179040e-03,  4.3303572e-04,  2.1711404e-03,  1.2515383e-03,\n",
       "        2.2678440e-03, -5.2949740e-04,  3.4417496e-03,  1.0072679e-03,\n",
       "        1.5323674e-03, -1.1048075e-03,  2.9768602e-03, -5.0841062e-04,\n",
       "        9.3785126e-04, -2.2730662e-03, -7.6288235e-04, -1.2556631e-03,\n",
       "       -2.9172748e-03, -4.8952880e-03,  2.1423404e-03,  1.6481208e-03,\n",
       "        5.1167463e-03,  1.6309381e-03, -2.0785669e-03,  1.4282850e-03,\n",
       "        5.2319523e-03, -3.1786480e-03,  9.1679668e-04,  2.6554237e-03,\n",
       "       -2.5451565e-04, -4.1297376e-03,  2.6422171e-03, -4.0858607e-03],\n",
       "      dtype=float32)"
      ]
     },
     "execution_count": 25,
     "metadata": {},
     "output_type": "execute_result"
    }
   ],
   "source": [
    "vector"
   ]
  },
  {
   "cell_type": "code",
   "execution_count": 26,
   "metadata": {},
   "outputs": [
    {
     "name": "stderr",
     "output_type": "stream",
     "text": [
      "/home/vinish/anaconda3/lib/python3.6/site-packages/gensim/matutils.py:737: FutureWarning: Conversion of the second argument of issubdtype from `int` to `np.signedinteger` is deprecated. In future, it will be treated as `np.int64 == np.dtype(int).type`.\n",
      "  if np.issubdtype(vec.dtype, np.int):\n"
     ]
    }
   ],
   "source": [
    "similar = model.wv.most_similar('technology')"
   ]
  },
  {
   "cell_type": "code",
   "execution_count": 27,
   "metadata": {},
   "outputs": [
    {
     "data": {
      "text/plain": [
       "[('dimensional', 0.3869002163410187),\n",
       " ('parallel', 0.3364986181259155),\n",
       " ('million', 0.31509721279144287),\n",
       " ('heal', 0.2881031632423401),\n",
       " ('properties', 0.28361648321151733),\n",
       " ('initially', 0.2801283001899719),\n",
       " ('woodrow', 0.27894291281700134),\n",
       " ('exemplar', 0.27469974756240845),\n",
       " ('stress-sensitive', 0.26943865418434143),\n",
       " ('description', 0.2646060585975647)]"
      ]
     },
     "execution_count": 27,
     "metadata": {},
     "output_type": "execute_result"
    }
   ],
   "source": [
    "similar"
   ]
  },
  {
   "cell_type": "code",
   "execution_count": null,
   "metadata": {},
   "outputs": [],
   "source": []
  },
  {
   "cell_type": "code",
   "execution_count": null,
   "metadata": {},
   "outputs": [],
   "source": []
  },
  {
   "cell_type": "code",
   "execution_count": null,
   "metadata": {},
   "outputs": [],
   "source": []
  },
  {
   "cell_type": "code",
   "execution_count": null,
   "metadata": {},
   "outputs": [],
   "source": []
  },
  {
   "cell_type": "code",
   "execution_count": null,
   "metadata": {},
   "outputs": [],
   "source": []
  },
  {
   "cell_type": "code",
   "execution_count": null,
   "metadata": {},
   "outputs": [],
   "source": []
  },
  {
   "cell_type": "code",
   "execution_count": null,
   "metadata": {},
   "outputs": [],
   "source": []
  }
 ],
 "metadata": {
  "kernelspec": {
   "display_name": "Python 3",
   "language": "python",
   "name": "python3"
  },
  "language_info": {
   "codemirror_mode": {
    "name": "ipython",
    "version": 3
   },
   "file_extension": ".py",
   "mimetype": "text/x-python",
   "name": "python",
   "nbconvert_exporter": "python",
   "pygments_lexer": "ipython3",
   "version": "3.6.6"
  }
 },
 "nbformat": 4,
 "nbformat_minor": 2
}
